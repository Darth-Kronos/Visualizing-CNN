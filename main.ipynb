{
 "cells": [
  {
   "cell_type": "code",
   "execution_count": 1,
   "metadata": {},
   "outputs": [],
   "source": [
    "import numpy as np\n",
    "import matplotlib.pyplot as plt\n",
    "import torch\n",
    "from torch import nn\n",
    "import torch.utils.data as data\n",
    "from tqdm.auto import tqdm\n",
    "from models import lenet5Conv\n",
    "from models import lenet5Deconv\n",
    "import prepare_data"
   ]
  },
  {
   "cell_type": "code",
   "execution_count": 2,
   "metadata": {},
   "outputs": [],
   "source": [
    "# training data\n",
    "train_img_filepath = 'DATA/MNSIT/train-images.idx3-ubyte'\n",
    "train_label_filepath = 'DATA/MNSIT/train-labels.idx1-ubyte'\n",
    "\n",
    "# testing data\n",
    "test_img_filepath = 'DATA/MNSIT/t10k-images.idx3-ubyte'\n",
    "test_label_filepath = 'DATA/MNSIT/t10k-labels.idx1-ubyte'\n"
   ]
  },
  {
   "cell_type": "code",
   "execution_count": 3,
   "metadata": {},
   "outputs": [],
   "source": [
    "# batch size of 64\n",
    "BATCH_SIZE = 64\n",
    "\n",
    "train_loader, test_loader = prepare_data.load(train_img_filepath, \n",
    "                                            train_label_filepath, \n",
    "                                            test_img_filepath,\n",
    "                                            test_label_filepath, \n",
    "                                            BATCH_SIZE\n",
    "                                        )\n",
    "        "
   ]
  },
  {
   "cell_type": "code",
   "execution_count": 4,
   "metadata": {},
   "outputs": [],
   "source": [
    "# setting the device on which PyTorch trains to CPU; Can set it to GPU is GPU is available\n",
    "device = 'cpu'"
   ]
  },
  {
   "cell_type": "code",
   "execution_count": 5,
   "metadata": {},
   "outputs": [],
   "source": [
    "# Defining accuracy function\n",
    "def accuracy_fn(y_true, y_pred):\n",
    "    correct = torch.eq(y_true, y_pred).sum().item() \n",
    "    acc = (correct / len(y_pred)) * 100 \n",
    "    return acc\n",
    "    \n",
    "def train_step(model: torch.nn.Module,\n",
    "               data_loader: torch.utils.data.DataLoader,\n",
    "               loss_fn: torch.nn.Module,\n",
    "               optimizer: torch.optim.Optimizer,\n",
    "               accuracy_fn,\n",
    "               device: torch.device = device):\n",
    "    train_loss, train_acc = 0, 0\n",
    "    for batch, (X, y) in enumerate(data_loader):\n",
    "        \n",
    "        # Send training data to CPU or GPU\n",
    "        X = X.to(torch.float32)\n",
    "        X, y = X.to(device), y.to(device)\n",
    "        \n",
    "        # Forward pass\n",
    "        y_pred = model(X)\n",
    "\n",
    "        # Calculate loss\n",
    "        loss = loss_fn(y_pred, y)\n",
    "\n",
    "        train_loss += loss\n",
    "        train_acc += accuracy_fn(y_true=y,\n",
    "                                 y_pred=y_pred.argmax(dim=1)) # logits to prediction label\n",
    "\n",
    "        # Grad of optimizer to zero (optimization the weights)\n",
    "        optimizer.zero_grad()\n",
    "\n",
    "        # Update the weights by backpropagation\n",
    "        loss.backward()\n",
    "        optimizer.step()\n",
    "\n",
    "    # Calculate loss and accuracy per epoch\n",
    "    train_loss /= len(data_loader)\n",
    "    train_acc /= len(data_loader)\n",
    "    print(f\"Train loss: {train_loss:.5f} | Train accuracy: {train_acc:.2f}%\")\n",
    "    return train_loss.detach().to('cpu').numpy(), train_acc\n",
    "\n",
    "def test_step(data_loader: torch.utils.data.DataLoader,\n",
    "              model: torch.nn.Module,\n",
    "              loss_fn: torch.nn.Module,\n",
    "              accuracy_fn,\n",
    "              device: torch.device = device):\n",
    "    test_loss, test_acc = 0, 0\n",
    "    model.eval() # put model in evaluation mode\n",
    "\n",
    "    with torch.inference_mode(): \n",
    "        for X, y in data_loader:\n",
    "            # Send testing data to CPU or GPU\n",
    "            X = X.to(torch.float32)\n",
    "            X, y = X.to(device), y.to(device)\n",
    "            # X = torch.unsqueeze(X,0)\n",
    "            # Forward pass\n",
    "            test_pred = model(X)\n",
    "            \n",
    "            # Calculate loss and accuracy\n",
    "            test_loss += loss_fn(test_pred, y)\n",
    "            test_acc += accuracy_fn(y_true=y,\n",
    "                y_pred=test_pred.argmax(dim=1) # logits to prediction label\n",
    "            )\n",
    "        \n",
    "    \n",
    "        test_loss /= len(data_loader)\n",
    "        test_acc /= len(data_loader)\n",
    "        print(f\"Test loss: {test_loss:.5f} | Test accuracy: {test_acc:.2f}%\\n\")\n",
    "        return test_loss.detach().to('cpu').numpy(), test_acc\n"
   ]
  },
  {
   "cell_type": "code",
   "execution_count": 6,
   "metadata": {},
   "outputs": [
    {
     "data": {
      "text/plain": [
       "lenet5Conv(\n",
       "  (first_conv2d): Conv2d(1, 6, kernel_size=(5, 5), stride=(1, 1), padding=(2, 2))\n",
       "  (first_ReLU): ReLU()\n",
       "  (first_maxPool2d): MaxPool2d(kernel_size=2, stride=2, padding=0, dilation=1, ceil_mode=False)\n",
       "  (second_conv2d): Conv2d(6, 16, kernel_size=(5, 5), stride=(1, 1))\n",
       "  (second_ReLU): ReLU()\n",
       "  (second_maxPool2d): MaxPool2d(kernel_size=2, stride=2, padding=0, dilation=1, ceil_mode=False)\n",
       "  (classifier): Sequential(\n",
       "    (0): Flatten(start_dim=1, end_dim=-1)\n",
       "    (1): Linear(in_features=400, out_features=120, bias=True)\n",
       "    (2): ReLU()\n",
       "    (3): Linear(in_features=120, out_features=84, bias=True)\n",
       "    (4): ReLU()\n",
       "    (5): Linear(in_features=84, out_features=10, bias=True)\n",
       "    (6): LogSoftmax(dim=1)\n",
       "  )\n",
       ")"
      ]
     },
     "execution_count": 6,
     "metadata": {},
     "output_type": "execute_result"
    }
   ],
   "source": [
    "torch.manual_seed(42)\n",
    "model = lenet5Conv(1, [6, 16], 10)\n",
    "model.to(device)\n",
    "model"
   ]
  },
  {
   "attachments": {},
   "cell_type": "markdown",
   "metadata": {},
   "source": [
    "## Loading trained model weights"
   ]
  },
  {
   "cell_type": "code",
   "execution_count": 7,
   "metadata": {},
   "outputs": [],
   "source": [
    "# model.load_state_dict(torch.load('models/saved/lenet5.pth'))"
   ]
  },
  {
   "attachments": {},
   "cell_type": "markdown",
   "metadata": {},
   "source": [
    "Skip training if loading the saved weights"
   ]
  },
  {
   "cell_type": "code",
   "execution_count": 8,
   "metadata": {},
   "outputs": [],
   "source": [
    "# Cross entropy loss\n",
    "# loss_function = nn.CrossEntropyLoss()\n",
    "loss_function = nn.NLLLoss()\n",
    "\n",
    "# Adam optimizer with learning rate 0.001\n",
    "optimizer = torch.optim.Adam(model.parameters(), lr=0.001)"
   ]
  },
  {
   "cell_type": "code",
   "execution_count": 9,
   "metadata": {},
   "outputs": [
    {
     "data": {
      "application/json": {
       "ascii": false,
       "bar_format": null,
       "colour": null,
       "elapsed": 0.008556842803955078,
       "initial": 0,
       "n": 0,
       "ncols": null,
       "nrows": null,
       "postfix": null,
       "prefix": "",
       "rate": null,
       "total": 20,
       "unit": "it",
       "unit_divisor": 1000,
       "unit_scale": false
      },
      "application/vnd.jupyter.widget-view+json": {
       "model_id": "f764c539f66c47dd8a41a2f2046e40d0",
       "version_major": 2,
       "version_minor": 0
      },
      "text/plain": [
       "  0%|          | 0/20 [00:00<?, ?it/s]"
      ]
     },
     "metadata": {},
     "output_type": "display_data"
    },
    {
     "name": "stdout",
     "output_type": "stream",
     "text": [
      "Epoch: 0\n",
      "---------\n",
      "Train loss: 0.27863 | Train accuracy: 91.51%\n",
      "Test loss: 0.08052 | Test accuracy: 97.41%\n",
      "\n",
      "Epoch: 1\n",
      "---------\n",
      "Train loss: 0.07733 | Train accuracy: 97.57%\n",
      "Test loss: 0.05508 | Test accuracy: 98.29%\n",
      "\n",
      "Epoch: 2\n",
      "---------\n",
      "Train loss: 0.05624 | Train accuracy: 98.26%\n",
      "Test loss: 0.04020 | Test accuracy: 98.66%\n",
      "\n",
      "Epoch: 3\n",
      "---------\n",
      "Train loss: 0.04354 | Train accuracy: 98.63%\n",
      "Test loss: 0.03687 | Test accuracy: 98.68%\n",
      "\n",
      "Epoch: 4\n",
      "---------\n",
      "Train loss: 0.03485 | Train accuracy: 98.90%\n",
      "Test loss: 0.03205 | Test accuracy: 98.93%\n",
      "\n",
      "Epoch: 5\n",
      "---------\n",
      "Train loss: 0.02867 | Train accuracy: 99.05%\n",
      "Test loss: 0.03838 | Test accuracy: 98.79%\n",
      "\n",
      "Epoch: 6\n",
      "---------\n",
      "Train loss: 0.02463 | Train accuracy: 99.25%\n",
      "Test loss: 0.03487 | Test accuracy: 98.80%\n",
      "\n",
      "Epoch: 7\n",
      "---------\n",
      "Train loss: 0.02103 | Train accuracy: 99.31%\n",
      "Test loss: 0.03821 | Test accuracy: 98.87%\n",
      "\n",
      "Epoch: 8\n",
      "---------\n",
      "Train loss: 0.01749 | Train accuracy: 99.44%\n",
      "Test loss: 0.03896 | Test accuracy: 98.86%\n",
      "\n",
      "Epoch: 9\n",
      "---------\n",
      "Train loss: 0.01601 | Train accuracy: 99.49%\n",
      "Test loss: 0.03969 | Test accuracy: 98.82%\n",
      "\n",
      "Epoch: 10\n",
      "---------\n",
      "Train loss: 0.01432 | Train accuracy: 99.52%\n",
      "Test loss: 0.04045 | Test accuracy: 98.81%\n",
      "\n",
      "Epoch: 11\n",
      "---------\n",
      "Train loss: 0.01289 | Train accuracy: 99.60%\n",
      "Test loss: 0.03603 | Test accuracy: 99.07%\n",
      "\n",
      "Epoch: 12\n",
      "---------\n",
      "Train loss: 0.01186 | Train accuracy: 99.63%\n",
      "Test loss: 0.04081 | Test accuracy: 98.92%\n",
      "\n",
      "Epoch: 13\n",
      "---------\n",
      "Train loss: 0.00899 | Train accuracy: 99.70%\n",
      "Test loss: 0.04478 | Test accuracy: 98.79%\n",
      "\n",
      "Epoch: 14\n",
      "---------\n",
      "Train loss: 0.01142 | Train accuracy: 99.60%\n",
      "Test loss: 0.04202 | Test accuracy: 98.90%\n",
      "\n",
      "Epoch: 15\n",
      "---------\n",
      "Train loss: 0.00874 | Train accuracy: 99.71%\n",
      "Test loss: 0.04724 | Test accuracy: 98.89%\n",
      "\n",
      "Epoch: 16\n",
      "---------\n",
      "Train loss: 0.00782 | Train accuracy: 99.73%\n",
      "Test loss: 0.05270 | Test accuracy: 98.76%\n",
      "\n",
      "Epoch: 17\n",
      "---------\n",
      "Train loss: 0.00814 | Train accuracy: 99.73%\n",
      "Test loss: 0.04550 | Test accuracy: 98.90%\n",
      "\n",
      "Epoch: 18\n",
      "---------\n",
      "Train loss: 0.00778 | Train accuracy: 99.74%\n",
      "Test loss: 0.04235 | Test accuracy: 99.01%\n",
      "\n",
      "Epoch: 19\n",
      "---------\n",
      "Train loss: 0.00770 | Train accuracy: 99.72%\n",
      "Test loss: 0.07028 | Test accuracy: 98.62%\n",
      "\n"
     ]
    }
   ],
   "source": [
    "EPOCHS = 20\n",
    "\n",
    "train_plot = []\n",
    "test_plot = []\n",
    "\n",
    "for epoch in tqdm(range(EPOCHS)):\n",
    "    print(f\"Epoch: {epoch}\\n---------\")\n",
    "    train_loss, train_acc = train_step(data_loader=train_loader, \n",
    "        model=model, \n",
    "        loss_fn=loss_function,\n",
    "        optimizer=optimizer,\n",
    "        accuracy_fn=accuracy_fn\n",
    "    )\n",
    "    \n",
    "    train_plot.append((train_acc, train_loss))\n",
    "\n",
    "    test_loss, test_acc = test_step(data_loader=test_loader,\n",
    "        model=model,\n",
    "        loss_fn=loss_function,\n",
    "        accuracy_fn=accuracy_fn\n",
    "    )\n",
    "    test_plot.append((test_acc, test_loss))\n",
    "    "
   ]
  },
  {
   "cell_type": "code",
   "execution_count": 10,
   "metadata": {},
   "outputs": [
    {
     "data": {
      "text/plain": [
       "Text(0, 0.5, 'Accuracy %')"
      ]
     },
     "execution_count": 10,
     "metadata": {},
     "output_type": "execute_result"
    },
    {
     "data": {
      "image/png": "[encoded data removed]",
      "text/plain": [
       "<Figure size 640x480 with 1 Axes>"
      ]
     },
     "metadata": {},
     "output_type": "display_data"
    }
   ],
   "source": [
    "plt.plot([i[0] for i in train_plot], label='training')\n",
    "plt.plot([i[0] for i in test_plot], label='testing')\n",
    "plt.grid()\n",
    "plt.legend()\n",
    "plt.title('Accuracy vs epoch')\n",
    "plt.xlabel('Epoch')\n",
    "plt.ylabel('Accuracy %')"
   ]
  },
  {
   "cell_type": "code",
   "execution_count": 11,
   "metadata": {},
   "outputs": [
    {
     "data": {
      "text/plain": [
       "Text(0, 0.5, 'Loss')"
      ]
     },
     "execution_count": 11,
     "metadata": {},
     "output_type": "execute_result"
    },
    {
     "data": {
      "image/png": "[encoded data removed]",
      "text/plain": [
       "<Figure size 640x480 with 1 Axes>"
      ]
     },
     "metadata": {},
     "output_type": "display_data"
    }
   ],
   "source": [
    "plt.plot([i[1] for i in train_plot], label='training')\n",
    "plt.plot([i[1] for i in test_plot], label='testing')\n",
    "plt.grid()\n",
    "plt.legend()\n",
    "plt.title('Loss vs epoch')\n",
    "plt.xlabel('Epoch')\n",
    "plt.ylabel('Loss')"
   ]
  },
  {
   "attachments": {},
   "cell_type": "markdown",
   "metadata": {},
   "source": [
    "Save the model"
   ]
  },
  {
   "cell_type": "code",
   "execution_count": 12,
   "metadata": {},
   "outputs": [],
   "source": [
    "torch.save(model.state_dict(), 'models/saved/lenet5.pth')"
   ]
  },
  {
   "attachments": {},
   "cell_type": "markdown",
   "metadata": {},
   "source": [
    "Feature Extracter class which saves the outputs of the model when an input is passed through it"
   ]
  },
  {
   "cell_type": "code",
   "execution_count": 13,
   "metadata": {},
   "outputs": [],
   "source": [
    "class FeatureExtractor(nn.Module):\n",
    "    def __init__(self, model: nn.Module):\n",
    "        super().__init__()\n",
    "        self.model = model\n",
    "        self._features = dict() # save the outputs into to dict with the help of PyTorch hooks\n",
    "\n",
    "        layers = dict([*self.model.named_modules()])\n",
    "        for layer_id, layer in layers.items():\n",
    "            layer.register_forward_hook(self.save_outputs_hook(layer_id))\n",
    "\n",
    "    def save_outputs_hook(self, layer_id: str):\n",
    "        def fn(_, __, output):\n",
    "            self._features[layer_id] = output\n",
    "        return fn\n",
    "\n",
    "    def forward(self, x):\n",
    "        self.model.eval() # eval mode to prevent training\n",
    "        _ = self.model(x)\n",
    "        return self._features"
   ]
  },
  {
   "cell_type": "code",
   "execution_count": 14,
   "metadata": {},
   "outputs": [],
   "source": [
    "# Trained weights for our model\n",
    "conv_model_weights = dict(model.named_parameters())"
   ]
  },
  {
   "cell_type": "code",
   "execution_count": 15,
   "metadata": {},
   "outputs": [],
   "source": [
    "test_batch_features, test_batch_lables = next(iter(test_loader))"
   ]
  },
  {
   "cell_type": "code",
   "execution_count": 16,
   "metadata": {},
   "outputs": [],
   "source": [
    "# Pick a test input from the loader\n",
    "# No. -> IDX\n",
    "# 0 - 10\n",
    "# 1 - 2\n",
    "# 5 - 15\n",
    "# 8 - 61\n",
    "test_idx = 15 \n",
    "test_input = test_batch_features[test_idx]\n",
    "test_input = torch.unsqueeze(test_input,0)\n",
    "test_input = test_input.to(torch.float32)"
   ]
  },
  {
   "attachments": {},
   "cell_type": "markdown",
   "metadata": {},
   "source": [
    "Test input prediction"
   ]
  },
  {
   "cell_type": "code",
   "execution_count": 17,
   "metadata": {},
   "outputs": [
    {
     "name": "stdout",
     "output_type": "stream",
     "text": [
      "The actual label: 5 & Predicted label: 5\n"
     ]
    }
   ],
   "source": [
    "model.eval()\n",
    "test_input_pred = model(test_input)\n",
    "prediction = test_input_pred.argmax(1)[0]\n",
    "print(f\"The actual label: {test_batch_lables[test_idx]} & Predicted label: {prediction}\")"
   ]
  },
  {
   "cell_type": "code",
   "execution_count": 18,
   "metadata": {},
   "outputs": [],
   "source": [
    "# Create the feature extractor and pass the test input\n",
    "model_features = FeatureExtractor(model)\n",
    "features = model_features(test_input)"
   ]
  },
  {
   "cell_type": "code",
   "execution_count": 19,
   "metadata": {},
   "outputs": [],
   "source": [
    "# With the features extracted, initialize the deconv model\n",
    "model_deconv = lenet5Deconv([6, 16],conv_model_weights)\n",
    "model_deconv.eval()\n",
    "\n",
    "# Switches for the MaxPooling layers\n",
    "switch = {'first_maxPool2d': features['first_maxPool2d'][1], 'second_maxPool2d':features['second_maxPool2d'][1] }"
   ]
  },
  {
   "cell_type": "code",
   "execution_count": 20,
   "metadata": {},
   "outputs": [
    {
     "data": {
      "image/png": "[encoded data removed]",
      "text/plain": [
       "<Figure size 2000x2000 with 6 Axes>"
      ]
     },
     "metadata": {},
     "output_type": "display_data"
    }
   ],
   "source": [
    "# layer = 'second_maxPool2d' # to vizualize from the second layer\n",
    "layer = 'first_maxPool2d' # to vizualize from the first layer\n",
    "num_feat = features[layer][0].shape[1] # get the number of features in that layer\n",
    "feat_map = features[layer][0].clone() # clone the output of layer for further modification\n",
    "\n",
    "plt.figure(figsize=(20,20))\n",
    "\n",
    "for i in range(0, num_feat):\n",
    "    # Choose 'i'th feature/activation map and proceed with vizualization\n",
    "    choose_map = feat_map[0, i, :, :]\n",
    "    \n",
    "    # Zeroing other feature maps\n",
    "    new_feat_map = torch.zeros(feat_map.shape)\n",
    "    new_feat_map[0, i, :, :] = choose_map \n",
    "\n",
    "    # Passing the map to the decovn model\n",
    "    new_img = model_deconv(new_feat_map, layer, switch)\n",
    "    \n",
    "    # Reshaping the image for plotting\n",
    "    new_img = torch.squeeze(new_img, 1)\n",
    "    new_img = torch.squeeze(new_img, 0)\n",
    "    \n",
    "    new_img = new_img.data.numpy()\n",
    "    new_img = (new_img - new_img.min()) / (new_img.max() - new_img.min()) * 255\n",
    "    new_img = new_img.astype(np.uint8)\n",
    "    \n",
    "    plt.subplot(num_feat//2, num_feat //2, i+1)\n",
    "    plt.imshow(new_img, cmap='gray')\n",
    "    plt.title(f\"Activation {i+1}\")\n",
    "    plt.axis(False)\n"
   ]
  }
 ],
 "metadata": {
  "kernelspec": {
   "display_name": "ML",
   "language": "python",
   "name": "python3"
  },
  "language_info": {
   "codemirror_mode": {
    "name": "ipython",
    "version": 3
   },
   "file_extension": ".py",
   "mimetype": "text/x-python",
   "name": "python",
   "nbconvert_exporter": "python",
   "pygments_lexer": "ipython3",
   "version": "3.10.9"
  },
  "orig_nbformat": 4,
  "vscode": {
   "interpreter": {
    "hash": "f7856f28a8102bce8e6ec63541b338d68bfbcc129f3f07cda64ee304fa0e68c3"
   }
  }
 },
 "nbformat": 4,
 "nbformat_minor": 2
}

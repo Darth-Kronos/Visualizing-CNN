{
 "cells": [
  {
   "cell_type": "code",
   "execution_count": 1,
   "metadata": {},
   "outputs": [],
   "source": [
    "import numpy as np\n",
    "import matplotlib.pyplot as plt\n",
    "import torch\n",
    "from torch import nn\n",
    "import torch.utils.data as data\n",
    "from tqdm.auto import tqdm\n",
    "from models import lenet5Conv\n",
    "from models import lenet5Deconv\n",
    "import prepare_data"
   ]
  },
  {
   "cell_type": "code",
   "execution_count": 2,
   "metadata": {},
   "outputs": [],
   "source": [
    "# training data\n",
    "train_img_filepath = 'DATA/MNSIT/train-images.idx3-ubyte'\n",
    "train_label_filepath = 'DATA/MNSIT/train-labels.idx1-ubyte'\n",
    "\n",
    "# testing data\n",
    "test_img_filepath = 'DATA/MNSIT/t10k-images.idx3-ubyte'\n",
    "test_label_filepath = 'DATA/MNSIT/t10k-labels.idx1-ubyte'\n"
   ]
  },
  {
   "cell_type": "code",
   "execution_count": 3,
   "metadata": {},
   "outputs": [],
   "source": [
    "# batch size of 64\n",
    "BATCH_SIZE = 64\n",
    "\n",
    "train_loader, test_loader = prepare_data.load(train_img_filepath, \n",
    "                                            train_label_filepath, \n",
    "                                            test_img_filepath,\n",
    "                                            test_label_filepath, \n",
    "                                            BATCH_SIZE\n",
    "                                        )\n",
    "        "
   ]
  },
  {
   "cell_type": "code",
   "execution_count": 4,
   "metadata": {},
   "outputs": [],
   "source": [
    "# setting the device on which PyTorch trains to CPU; Can set it to GPU is GPU is available\n",
    "device = 'cpu'"
   ]
  },
  {
   "cell_type": "code",
   "execution_count": 5,
   "metadata": {},
   "outputs": [],
   "source": [
    "# Defining accuracy function\n",
    "def accuracy_fn(y_true, y_pred):\n",
    "    correct = torch.eq(y_true, y_pred).sum().item() \n",
    "    acc = (correct / len(y_pred)) * 100 \n",
    "    return acc\n",
    "    \n",
    "def train_step(model: torch.nn.Module,\n",
    "               data_loader: torch.utils.data.DataLoader,\n",
    "               loss_fn: torch.nn.Module,\n",
    "               optimizer: torch.optim.Optimizer,\n",
    "               accuracy_fn,\n",
    "               device: torch.device = device):\n",
    "    train_loss, train_acc = 0, 0\n",
    "    for batch, (X, y) in enumerate(data_loader):\n",
    "        # Send training data to CPU or GPU\n",
    "        X = X.to(torch.float32)\n",
    "        X, y = X.to(device), y.to(device)\n",
    "        # Forward pass\n",
    "        # X = torch.unsqueeze(X,-1)\n",
    "        # print(X.shape)\n",
    "        y_pred = model(X)\n",
    "\n",
    "        # Calculate loss\n",
    "        loss = loss_fn(y_pred, y)\n",
    "\n",
    "        train_loss += loss\n",
    "        train_acc += accuracy_fn(y_true=y,\n",
    "                                 y_pred=y_pred.argmax(dim=1)) # logits to prediction label\n",
    "\n",
    "        # Grad of optimizer to zero (optimization the weights)\n",
    "        optimizer.zero_grad()\n",
    "\n",
    "        # Update the weights by backpropagation\n",
    "        loss.backward()\n",
    "        optimizer.step()\n",
    "\n",
    "    # Calculate loss and accuracy per epoch\n",
    "    train_loss /= len(data_loader)\n",
    "    train_acc /= len(data_loader)\n",
    "    print(f\"Train loss: {train_loss:.5f} | Train accuracy: {train_acc:.2f}%\")\n",
    "    return train_loss.detach().to('cpu').numpy(), train_acc\n",
    "\n",
    "def test_step(data_loader: torch.utils.data.DataLoader,\n",
    "              model: torch.nn.Module,\n",
    "              loss_fn: torch.nn.Module,\n",
    "              accuracy_fn,\n",
    "              device: torch.device = device):\n",
    "    test_loss, test_acc = 0, 0\n",
    "    model.eval() # put model in evaluation mode\n",
    "\n",
    "    with torch.inference_mode(): \n",
    "        for X, y in data_loader:\n",
    "            # Send testing data to CPU or GPU\n",
    "            X = X.to(torch.float32)\n",
    "            X, y = X.to(device), y.to(device)\n",
    "            # X = torch.unsqueeze(X,0)\n",
    "            # Forward pass\n",
    "            test_pred = model(X)\n",
    "            \n",
    "            # Calculate loss and accuracy\n",
    "            test_loss += loss_fn(test_pred, y)\n",
    "            test_acc += accuracy_fn(y_true=y,\n",
    "                y_pred=test_pred.argmax(dim=1) # logits to prediction label\n",
    "            )\n",
    "        \n",
    "    \n",
    "        test_loss /= len(data_loader)\n",
    "        test_acc /= len(data_loader)\n",
    "        print(f\"Test loss: {test_loss:.5f} | Test accuracy: {test_acc:.2f}%\\n\")\n",
    "        return test_loss.detach().to('cpu').numpy(), test_acc\n"
   ]
  },
  {
   "cell_type": "code",
   "execution_count": 6,
   "metadata": {},
   "outputs": [
    {
     "data": {
      "text/plain": [
       "lenet5Conv(\n",
       "  (first_conv2d): Conv2d(1, 6, kernel_size=(5, 5), stride=(1, 1), padding=(2, 2))\n",
       "  (first_sigmoid): Sigmoid()\n",
       "  (first_maxPool2d): MaxPool2d(kernel_size=2, stride=2, padding=0, dilation=1, ceil_mode=False)\n",
       "  (second_conv2d): Conv2d(6, 16, kernel_size=(5, 5), stride=(1, 1))\n",
       "  (second_sigmoid): Sigmoid()\n",
       "  (second_maxPool2d): MaxPool2d(kernel_size=2, stride=2, padding=0, dilation=1, ceil_mode=False)\n",
       "  (classifier): Sequential(\n",
       "    (0): Flatten(start_dim=1, end_dim=-1)\n",
       "    (1): Linear(in_features=400, out_features=120, bias=True)\n",
       "    (2): Sigmoid()\n",
       "    (3): Linear(in_features=120, out_features=84, bias=True)\n",
       "    (4): Sigmoid()\n",
       "    (5): Linear(in_features=84, out_features=10, bias=True)\n",
       "    (6): LogSoftmax(dim=1)\n",
       "  )\n",
       ")"
      ]
     },
     "execution_count": 6,
     "metadata": {},
     "output_type": "execute_result"
    }
   ],
   "source": [
    "torch.manual_seed(42)\n",
    "model = lenet5Conv(1, [6, 16], 10)\n",
    "model.to(device)\n",
    "model"
   ]
  },
  {
   "cell_type": "code",
   "execution_count": 7,
   "metadata": {},
   "outputs": [],
   "source": [
    "# Cross entropy loss\n",
    "# loss_function = nn.CrossEntropyLoss()\n",
    "loss_function = nn.NLLLoss()\n",
    "\n",
    "# Adam optimizer with learning rate 0.001\n",
    "optimizer = torch.optim.Adam(model.parameters(), lr=0.001)"
   ]
  },
  {
   "cell_type": "code",
   "execution_count": 8,
   "metadata": {},
   "outputs": [
    {
     "data": {
      "application/json": {
       "ascii": false,
       "bar_format": null,
       "colour": null,
       "elapsed": 0.01151895523071289,
       "initial": 0,
       "n": 0,
       "ncols": null,
       "nrows": null,
       "postfix": null,
       "prefix": "",
       "rate": null,
       "total": 20,
       "unit": "it",
       "unit_divisor": 1000,
       "unit_scale": false
      },
      "application/vnd.jupyter.widget-view+json": {
       "model_id": "8dbbefba296748bd95b770da1000325b",
       "version_major": 2,
       "version_minor": 0
      },
      "text/plain": [
       "  0%|          | 0/20 [00:00<?, ?it/s]"
      ]
     },
     "metadata": {},
     "output_type": "display_data"
    },
    {
     "name": "stdout",
     "output_type": "stream",
     "text": [
      "Epoch: 0\n",
      "---------\n",
      "Train loss: 1.04684 | Train accuracy: 65.75%\n",
      "Test loss: 0.27267 | Test accuracy: 92.51%\n",
      "\n",
      "Epoch: 1\n",
      "---------\n",
      "Train loss: 0.19443 | Train accuracy: 94.44%\n",
      "Test loss: 0.11991 | Test accuracy: 96.38%\n",
      "\n",
      "Epoch: 2\n",
      "---------\n",
      "Train loss: 0.11628 | Train accuracy: 96.50%\n",
      "Test loss: 0.08222 | Test accuracy: 97.60%\n",
      "\n",
      "Epoch: 3\n",
      "---------\n",
      "Train loss: 0.08902 | Train accuracy: 97.33%\n",
      "Test loss: 0.07586 | Test accuracy: 97.67%\n",
      "\n",
      "Epoch: 4\n",
      "---------\n",
      "Train loss: 0.07284 | Train accuracy: 97.78%\n",
      "Test loss: 0.06582 | Test accuracy: 97.90%\n",
      "\n",
      "Epoch: 5\n",
      "---------\n",
      "Train loss: 0.06159 | Train accuracy: 98.12%\n",
      "Test loss: 0.05208 | Test accuracy: 98.43%\n",
      "\n",
      "Epoch: 6\n",
      "---------\n",
      "Train loss: 0.05449 | Train accuracy: 98.32%\n",
      "Test loss: 0.04762 | Test accuracy: 98.54%\n",
      "\n",
      "Epoch: 7\n",
      "---------\n",
      "Train loss: 0.04693 | Train accuracy: 98.54%\n",
      "Test loss: 0.05036 | Test accuracy: 98.31%\n",
      "\n",
      "Epoch: 8\n",
      "---------\n",
      "Train loss: 0.04155 | Train accuracy: 98.74%\n",
      "Test loss: 0.04252 | Test accuracy: 98.69%\n",
      "\n",
      "Epoch: 9\n",
      "---------\n",
      "Train loss: 0.03777 | Train accuracy: 98.85%\n",
      "Test loss: 0.04615 | Test accuracy: 98.49%\n",
      "\n",
      "Epoch: 10\n",
      "---------\n",
      "Train loss: 0.03360 | Train accuracy: 98.97%\n",
      "Test loss: 0.03731 | Test accuracy: 98.70%\n",
      "\n",
      "Epoch: 11\n",
      "---------\n",
      "Train loss: 0.03018 | Train accuracy: 99.06%\n",
      "Test loss: 0.04119 | Test accuracy: 98.81%\n",
      "\n",
      "Epoch: 12\n",
      "---------\n",
      "Train loss: 0.02752 | Train accuracy: 99.12%\n",
      "Test loss: 0.03694 | Test accuracy: 98.89%\n",
      "\n",
      "Epoch: 13\n",
      "---------\n",
      "Train loss: 0.02492 | Train accuracy: 99.22%\n",
      "Test loss: 0.04171 | Test accuracy: 98.69%\n",
      "\n",
      "Epoch: 14\n",
      "---------\n",
      "Train loss: 0.02306 | Train accuracy: 99.28%\n",
      "Test loss: 0.03734 | Test accuracy: 98.76%\n",
      "\n",
      "Epoch: 15\n",
      "---------\n",
      "Train loss: 0.02001 | Train accuracy: 99.38%\n",
      "Test loss: 0.03521 | Test accuracy: 98.82%\n",
      "\n",
      "Epoch: 16\n",
      "---------\n",
      "Train loss: 0.01779 | Train accuracy: 99.46%\n",
      "Test loss: 0.03540 | Test accuracy: 98.93%\n",
      "\n",
      "Epoch: 17\n",
      "---------\n",
      "Train loss: 0.01712 | Train accuracy: 99.44%\n",
      "Test loss: 0.03535 | Test accuracy: 98.93%\n",
      "\n",
      "Epoch: 18\n",
      "---------\n",
      "Train loss: 0.01432 | Train accuracy: 99.58%\n",
      "Test loss: 0.03882 | Test accuracy: 98.83%\n",
      "\n",
      "Epoch: 19\n",
      "---------\n",
      "Train loss: 0.01396 | Train accuracy: 99.58%\n",
      "Test loss: 0.03573 | Test accuracy: 98.93%\n",
      "\n"
     ]
    }
   ],
   "source": [
    "EPOCHS = 20\n",
    "\n",
    "train_plot = []\n",
    "test_plot = []\n",
    "\n",
    "for epoch in tqdm(range(EPOCHS)):\n",
    "    print(f\"Epoch: {epoch}\\n---------\")\n",
    "    train_loss, train_acc = train_step(data_loader=train_loader, \n",
    "        model=model, \n",
    "        loss_fn=loss_function,\n",
    "        optimizer=optimizer,\n",
    "        accuracy_fn=accuracy_fn\n",
    "    )\n",
    "    \n",
    "    train_plot.append((train_acc, train_loss))\n",
    "\n",
    "    test_loss, test_acc = test_step(data_loader=test_loader,\n",
    "        model=model,\n",
    "        loss_fn=loss_function,\n",
    "        accuracy_fn=accuracy_fn\n",
    "    )\n",
    "    test_plot.append((test_acc, test_loss))\n",
    "    "
   ]
  },
  {
   "cell_type": "code",
   "execution_count": 11,
   "metadata": {},
   "outputs": [
    {
     "data": {
      "text/plain": [
       "Text(0, 0.5, 'Accuracy %')"
      ]
     },
     "execution_count": 11,
     "metadata": {},
     "output_type": "execute_result"
    },
    {
     "data": {
      "image/png": "[encoded data removed]",
      "text/plain": [
       "<Figure size 640x480 with 1 Axes>"
      ]
     },
     "metadata": {},
     "output_type": "display_data"
    }
   ],
   "source": [
    "plt.plot([i[0] for i in train_plot], label='training')\n",
    "plt.plot([i[0] for i in test_plot], label='testing')\n",
    "plt.grid()\n",
    "plt.legend()\n",
    "plt.title('Accuracy vs epoch')\n",
    "plt.xlabel('Epoch')\n",
    "plt.ylabel('Accuracy %')"
   ]
  },
  {
   "cell_type": "code",
   "execution_count": 12,
   "metadata": {},
   "outputs": [
    {
     "data": {
      "text/plain": [
       "Text(0, 0.5, 'Loss')"
      ]
     },
     "execution_count": 12,
     "metadata": {},
     "output_type": "execute_result"
    },
    {
     "data": {
      "image/png": "[encoded data removed]",
      "text/plain": [
       "<Figure size 640x480 with 1 Axes>"
      ]
     },
     "metadata": {},
     "output_type": "display_data"
    }
   ],
   "source": [
    "plt.plot([i[1] for i in train_plot], label='training')\n",
    "plt.plot([i[1] for i in test_plot], label='testing')\n",
    "plt.grid()\n",
    "plt.legend()\n",
    "plt.title('Loss vs epoch')\n",
    "plt.xlabel('Epoch')\n",
    "plt.ylabel('Loss')"
   ]
  },
  {
   "cell_type": "code",
   "execution_count": 15,
   "metadata": {},
   "outputs": [],
   "source": [
    "class FeatureExtractor(nn.Module):\n",
    "    def __init__(self, model: nn.Module):\n",
    "        super().__init__()\n",
    "        self.model = model\n",
    "        self._features = dict()\n",
    "\n",
    "        layers = dict([*self.model.named_modules()])\n",
    "        for layer_id, layer in layers.items():\n",
    "            layer.register_forward_hook(self.save_outputs_hook(layer_id))\n",
    "\n",
    "    def save_outputs_hook(self, layer_id: str):\n",
    "        def fn(_, __, output):\n",
    "            self._features[layer_id] = output\n",
    "        return fn\n",
    "\n",
    "    def forward(self, x):\n",
    "        self.model.eval()\n",
    "        _ = self.model(x)\n",
    "        return self._features"
   ]
  },
  {
   "cell_type": "code",
   "execution_count": 16,
   "metadata": {},
   "outputs": [
    {
     "data": {
      "text/plain": [
       "torch.Size([64, 1, 28, 28])"
      ]
     },
     "execution_count": 16,
     "metadata": {},
     "output_type": "execute_result"
    }
   ],
   "source": [
    "test_batch_features, test_batch_lables = next(iter(test_loader))\n",
    "test_batch_features.shape"
   ]
  },
  {
   "cell_type": "code",
   "execution_count": 17,
   "metadata": {},
   "outputs": [],
   "source": [
    "test_input = test_batch_features[0]\n",
    "test_input = torch.unsqueeze(test_input,0)\n",
    "test_input = test_input.to(torch.float32)"
   ]
  },
  {
   "cell_type": "code",
   "execution_count": 68,
   "metadata": {},
   "outputs": [],
   "source": [
    "model_features = FeatureExtractor(model)\n",
    "features = model_features(test_input)"
   ]
  },
  {
   "cell_type": "code",
   "execution_count": 31,
   "metadata": {},
   "outputs": [
    {
     "data": {
      "text/plain": [
       "7.382544040679932"
      ]
     },
     "execution_count": 31,
     "metadata": {},
     "output_type": "execute_result"
    }
   ],
   "source": [
    "torch.max(features['first_conv2d'][0,1,:, :]).item()"
   ]
  },
  {
   "cell_type": "code",
   "execution_count": 20,
   "metadata": {},
   "outputs": [
    {
     "data": {
      "text/plain": [
       "dict_keys(['first_conv2d', 'first_sigmoid', 'first_maxPool2d', 'second_conv2d', 'second_sigmoid', 'second_maxPool2d', 'classifier.0', 'classifier.1', 'classifier.2', 'classifier.3', 'classifier.4', 'classifier.5', 'classifier.6', 'classifier', ''])"
      ]
     },
     "execution_count": 20,
     "metadata": {},
     "output_type": "execute_result"
    }
   ],
   "source": [
    "features.keys()"
   ]
  },
  {
   "cell_type": "code",
   "execution_count": 71,
   "metadata": {},
   "outputs": [],
   "source": [
    "layer = 'second_conv2d'\n",
    "num_feat = features[layer].shape[1]\n",
    "new_feat_map = features[layer].clone()\n",
    "# choose the max activations map\n",
    "act_lst = []\n",
    "for i in range(0, num_feat):\n",
    "    choose_map = new_feat_map[0, i, :, :]\n",
    "    activation = torch.max(choose_map)\n",
    "    act_lst.append(activation.item())\n",
    "\n",
    "act_lst = np.array(act_lst)\n",
    "mark = np.argmax(act_lst)\n",
    "\n",
    "choose_map = new_feat_map[0, mark, :, :].clone()\n",
    "new_feat_map[:,:,:,:] = 0\n",
    "new_feat_map[0,mark, :, :] = choose_map\n",
    "max_activation = torch.max(choose_map)"
   ]
  },
  {
   "cell_type": "code",
   "execution_count": 76,
   "metadata": {},
   "outputs": [],
   "source": [
    "model_deconv = lenet5Deconv([6, 16])"
   ]
  },
  {
   "cell_type": "code",
   "execution_count": 121,
   "metadata": {},
   "outputs": [],
   "source": [
    "model_deconv.eval()\n",
    "switch = {'first_maxPool2d': features['first_maxPool2d'][1], 'second_maxPool2d':features['second_maxPool2d'][1] }\n",
    "new_img = model_deconv(new_feat_map, 2, switch)"
   ]
  },
  {
   "cell_type": "code",
   "execution_count": 122,
   "metadata": {},
   "outputs": [],
   "source": [
    "new_img = torch.squeeze(new_img, 1)\n",
    "new_img = torch.squeeze(new_img, 0)"
   ]
  },
  {
   "cell_type": "code",
   "execution_count": 123,
   "metadata": {},
   "outputs": [],
   "source": [
    "new_img = new_img.data.numpy()"
   ]
  },
  {
   "cell_type": "code",
   "execution_count": 112,
   "metadata": {},
   "outputs": [],
   "source": [
    "new_img = (new_img - new_img.min()) / (new_img.max() - new_img.min()) * 255\n",
    "new_img = new_img.astype(np.uint8)"
   ]
  },
  {
   "cell_type": "code",
   "execution_count": 125,
   "metadata": {},
   "outputs": [
    {
     "data": {
      "text/plain": [
       "array([[ 0.39354917, -0.10198262,  0.14110681,  0.1190325 ,  0.16187546,\n",
       "         0.06309074,  0.17951971,  0.09098005,  0.22696841,  0.08998677,\n",
       "         0.22631899,  0.08965015,  0.2214678 ,  0.0916591 ,  0.21845958,\n",
       "         0.07919118,  0.2069791 ,  0.07373202,  0.20581892,  0.04412359,\n",
       "         0.1571204 ,  0.12805161,  0.14814675,  0.0942969 ,  0.1354278 ,\n",
       "         0.1394318 ,  0.01983134, -0.42782438],\n",
       "       [ 0.5106236 ,  0.06706807,  0.39172223,  0.33858815,  0.36816707,\n",
       "         0.347389  ,  0.3177109 ,  0.34347525,  0.3209604 ,  0.31224343,\n",
       "         0.31899223,  0.30221528,  0.32412156,  0.28701866,  0.32699516,\n",
       "         0.27166086,  0.31998888,  0.26951128,  0.30526742,  0.2548993 ,\n",
       "         0.31816298,  0.3127881 ,  0.35589263,  0.2979452 ,  0.39371684,\n",
       "         0.27754056,  0.06930858, -0.5312199 ],\n",
       "       [ 0.42928836, -0.07419255,  0.17661268,  0.24840635,  0.19158873,\n",
       "         0.22067735,  0.16679966,  0.2124674 ,  0.17341378,  0.21300456,\n",
       "         0.19011354,  0.17559367,  0.14128041,  0.17496699,  0.13077965,\n",
       "         0.13047135,  0.22014576,  0.1149292 ,  0.21225268,  0.03634518,\n",
       "         0.13878098,  0.13138172,  0.13465509,  0.05921939,  0.13317817,\n",
       "         0.14259541,  0.04591769, -0.5787649 ],\n",
       "       [ 0.30896914, -0.16120839,  0.09831077,  0.09030157,  0.09889388,\n",
       "         0.0765602 ,  0.15268534, -0.024481  ,  0.1366778 , -0.0483596 ,\n",
       "         0.07949823, -0.11026045,  0.10472316, -0.04613294,  0.10320002,\n",
       "        -0.0295321 ,  0.01611003, -0.06235733,  0.00969619, -0.08891421,\n",
       "         0.04422569, -0.00392175,  0.04068595, -0.03001839,  0.09178287,\n",
       "        -0.03130397, -0.03059891, -0.63398236],\n",
       "       [ 0.41806749, -0.13935529,  0.19242477,  0.17139086,  0.20478433,\n",
       "         0.1539551 ,  0.19015533,  0.11718374,  0.19399387, -0.01399934,\n",
       "         0.12802973,  0.10364339, -0.02213106,  0.19874191, -0.04944792,\n",
       "         0.09538084,  0.0297797 ,  0.08654609,  0.07317375,  0.07714832,\n",
       "         0.01963861,  0.07938197, -0.03889427,  0.06284213, -0.04343146,\n",
       "         0.11524245,  0.00345317, -0.57478476],\n",
       "       [ 0.35112348, -0.07011627,  0.05494958,  0.18138182,  0.02467272,\n",
       "         0.18593436,  0.09655625,  0.09400618,  0.05366185,  0.1314838 ,\n",
       "         0.11266881, -0.03732198,  0.02234444,  0.02413604,  0.09282845,\n",
       "        -0.09424084, -0.01576036, -0.02618593,  0.18222159, -0.03498238,\n",
       "         0.06481656,  0.03579587,  0.1269353 ,  0.02552834,  0.17684144,\n",
       "         0.00376824, -0.03487696, -0.60802746],\n",
       "       [ 0.37647834, -0.20668776,  0.12936935,  0.08483866,  0.18916765,\n",
       "         0.16720587,  0.24594977,  0.21121445,  0.11207613,  0.26814854,\n",
       "         0.17855054,  0.29627234,  0.24179742,  0.35547248,  0.19345036,\n",
       "         0.42597893,  0.30860332,  0.2440961 ,  0.4027948 ,  0.2778168 ,\n",
       "         0.18441373,  0.25943166,  0.03339666,  0.1155636 ,  0.00376977,\n",
       "         0.05780348, -0.02992234, -0.56372666],\n",
       "       [ 0.45363668, -0.1383861 ,  0.10463721,  0.16052216,  0.17097026,\n",
       "         0.09902865,  0.1635634 ,  0.12841111,  0.29344803,  0.14598611,\n",
       "         0.3937107 ,  0.14144683,  0.21904731,  0.30329317,  0.17307186,\n",
       "         0.13679725,  0.1120472 ,  0.21470952,  0.27917147,  0.10993624,\n",
       "         0.21433026,  0.13903564,  0.13738656,  0.24604732,  0.22849083,\n",
       "         0.06626701,  0.07337305, -0.60615826],\n",
       "       [ 0.41483185, -0.09989782,  0.20252904,  0.07530132,  0.18482637,\n",
       "         0.10654175,  0.14918235,  0.07945372,  0.13015911,  0.10823277,\n",
       "         0.0566346 ,  0.02350003,  0.12343085,  0.19792107,  0.28303072,\n",
       "         0.13855356,  0.1443578 ,  0.24870169,  0.20511544,  0.06664622,\n",
       "         0.20999706,  0.19751874,  0.24302453,  0.04322168,  0.10063729,\n",
       "         0.10586876, -0.07982755, -0.55394477],\n",
       "       [ 0.35774776, -0.17069776,  0.06209558,  0.16561615,  0.25467217,\n",
       "         0.05481565,  0.3082034 ,  0.3298149 ,  0.2370485 ,  0.14590293,\n",
       "         0.24352723,  0.23841655,  0.12002951,  0.14489397,  0.3336377 ,\n",
       "         0.25315723,  0.19146451,  0.26293418,  0.38271067,  0.0282639 ,\n",
       "         0.22275043,  0.02981761,  0.03663769,  0.18644792,  0.13682085,\n",
       "         0.07394719,  0.0602949 , -0.5908842 ],\n",
       "       [ 0.4720898 , -0.10153529,  0.26175854,  0.12611187,  0.23304257,\n",
       "         0.17557153,  0.15379772,  0.23611677,  0.14598069,  0.09940419,\n",
       "         0.12643397,  0.03743201,  0.0022918 , -0.04519284,  0.02219689,\n",
       "        -0.02265278, -0.0778867 , -0.03966366, -0.0049969 , -0.09455015,\n",
       "         0.13022158,  0.07878533,  0.06550854,  0.03860724,  0.05964489,\n",
       "         0.10398221, -0.0798529 , -0.52617884],\n",
       "       [ 0.30640578, -0.14847617,  0.09306926,  0.15551263,  0.09059262,\n",
       "         0.1311146 , -0.00845505,  0.08354792, -0.03572003,  0.07357952,\n",
       "         0.03000765,  0.1782436 ,  0.311995  , -0.04720066,  0.25442338,\n",
       "         0.2348465 ,  0.0951359 ,  0.12550655,  0.10371262,  0.09645709,\n",
       "         0.06497034,  0.18431816,  0.0332087 , -0.03420192,  0.10598212,\n",
       "         0.03033626, -0.00928184, -0.58422136],\n",
       "       [ 0.4279066 , -0.17066444,  0.15344977,  0.08995247,  0.24813867,\n",
       "         0.03047428,  0.1432063 ,  0.1112093 ,  0.2086201 ,  0.00668818,\n",
       "         0.1596196 ,  0.13942096,  0.03671777,  0.04382417, -0.14631826,\n",
       "         0.24698555,  0.15529308,  0.04543343,  0.23170918,  0.15528151,\n",
       "        -0.01532078,  0.13841328,  0.00238305,  0.10486346,  0.14512268,\n",
       "         0.06953728, -0.03798056, -0.53220445],\n",
       "       [ 0.366825  , -0.15768042,  0.12922311,  0.15182316,  0.10305768,\n",
       "         0.2006616 ,  0.07296114,  0.07352875,  0.26155642,  0.06151125,\n",
       "         0.24279976,  0.08293995,  0.13493553,  0.11109895,  0.12100208,\n",
       "         0.3311887 ,  0.13383248,  0.14551616,  0.18114665,  0.09810841,\n",
       "         0.11754033,  0.1673559 ,  0.00732589,  0.08395758,  0.17134413,\n",
       "         0.01955557,  0.01521483, -0.59292835],\n",
       "       [ 0.40588978, -0.11871119,  0.2126734 ,  0.08733663,  0.21919972,\n",
       "         0.08781022,  0.23356393,  0.0792686 ,  0.12702355, -0.03630293,\n",
       "         0.24688727, -0.20068343,  0.08185762, -0.05980362, -0.02828816,\n",
       "         0.11712071,  0.18902728, -0.00435376,  0.15212694,  0.06553531,\n",
       "        -0.10050269,  0.2053723 ,  0.04292223,  0.06816562,  0.12416318,\n",
       "         0.068097  , -0.03036417, -0.55153483],\n",
       "       [ 0.3825688 , -0.12351361,  0.12533659,  0.15960044,  0.10191745,\n",
       "         0.14229888,  0.10692638,  0.07411301,  0.13153255,  0.06119737,\n",
       "         0.07236591,  0.14288393,  0.05255695,  0.56765366,  0.1694431 ,\n",
       "         0.05286437,  0.22404182,  0.03757313,  0.08415109,  0.3663213 ,\n",
       "         0.15301862, -0.03333247,  0.12727761,  0.01567981,  0.17368042,\n",
       "         0.07252993,  0.0311583 , -0.59547096],\n",
       "       [ 0.44040582, -0.09191437,  0.2717084 ,  0.09693182,  0.29784334,\n",
       "         0.10859933,  0.27034628,  0.04859731,  0.43405607,  0.08917415,\n",
       "         0.13322967,  0.12307617, -0.05979675,  0.08268619,  0.15678364,\n",
       "         0.11024684,  0.19591531,  0.05004442,  0.05236925,  0.12004295,\n",
       "         0.08929664,  0.12712508,  0.11989608,  0.02319002,  0.0910745 ,\n",
       "         0.09081182, -0.03482605, -0.55077004],\n",
       "       [ 0.37595025, -0.10940237,  0.12020588,  0.15903509,  0.1110335 ,\n",
       "         0.17221308,  0.13442081,  0.10001814,  0.20162815, -0.02049875,\n",
       "         0.06517556,  0.32767355,  0.1520294 ,  0.33645076,  0.09454641,\n",
       "         0.04100437,  0.19692898,  0.23574734,  0.17301115,  0.16722804,\n",
       "        -0.00477248,  0.09978732,  0.18572   ,  0.01335321,  0.174815  ,\n",
       "         0.06279907,  0.01871791, -0.60011923],\n",
       "       [ 0.44036415, -0.09268159,  0.2546414 ,  0.14258656,  0.28979388,\n",
       "         0.14918885,  0.33880934,  0.09821427,  0.42505136,  0.00686556,\n",
       "         0.05907449,  0.19911522,  0.09867454,  0.1020025 ,  0.28921852,\n",
       "         0.21435356, -0.01491585,  0.10947862,  0.02956572,  0.16688672,\n",
       "         0.02762946,  0.04279213,  0.13144132,  0.08082184,  0.03154135,\n",
       "         0.12681094, -0.03081477, -0.55596495],\n",
       "       [ 0.3749129 , -0.13496268,  0.1259324 ,  0.13831359,  0.12004423,\n",
       "         0.13419968,  0.12187719,  0.05973187,  0.10696429,  0.02682224,\n",
       "         0.08916628,  0.46442857,  0.38159242,  0.05267817,  0.29212686,\n",
       "         0.11468557,  0.01299024,  0.26614922,  0.19387507, -0.003316  ,\n",
       "         0.09633389,  0.02848297,  0.18493322,  0.06044406,  0.1677422 ,\n",
       "         0.06729835,  0.01584509, -0.59992874],\n",
       "       [ 0.4194626 , -0.08587608,  0.22622845,  0.13362274,  0.24792755,\n",
       "         0.16606474,  0.2611426 ,  0.05998614,  0.15263802,  0.1781264 ,\n",
       "         0.00145647,  0.11860627,  0.12103912,  0.06766737,  0.04026307,\n",
       "         0.11130524,  0.05096152,  0.10029346,  0.12519434,  0.07560951,\n",
       "         0.12186533, -0.01144543,  0.08228512,  0.06886703,  0.02200565,\n",
       "         0.09760383, -0.03742542, -0.5586463 ],\n",
       "       [ 0.3606678 , -0.10763581,  0.12065643,  0.16451949,  0.12197071,\n",
       "         0.1616621 ,  0.12835461,  0.02849126,  0.01563025,  0.29385912,\n",
       "         0.19024163,  0.0576241 ,  0.13603997,  0.07520057,  0.12443858,\n",
       "         0.25914416,  0.06044273,  0.11908707,  0.13250771,  0.05074289,\n",
       "         0.22313458,  0.04279599,  0.17706025,  0.08863872,  0.15435821,\n",
       "         0.07899231,  0.00209022, -0.578877  ],\n",
       "       [ 0.4083539 , -0.0939009 ,  0.2191424 ,  0.10531139,  0.24524689,\n",
       "         0.13893875,  0.1611476 ,  0.12583491,  0.19997644,  0.295527  ,\n",
       "         0.2922193 ,  0.1452089 ,  0.44859466,  0.09434253, -0.12149329,\n",
       "         0.19457585,  0.16102806,  0.20642856,  0.1209999 ,  0.04283836,\n",
       "         0.11360225,  0.11346146,  0.04884687,  0.14784971,  0.07658869,\n",
       "         0.10409936, -0.0329662 , -0.5515292 ],\n",
       "       [ 0.40180174, -0.08758463,  0.1541993 ,  0.18547338,  0.1697923 ,\n",
       "         0.18805623,  0.10703152,  0.20572716,  0.07401448,  0.30387044,\n",
       "         0.24975681,  0.16222805,  0.22344902,  0.2408742 ,  0.14461645,\n",
       "         0.20364422,  0.17941958,  0.11871028,  0.20161816,  0.01045091,\n",
       "         0.24336389,  0.13610974,  0.18315709,  0.11588341,  0.16021162,\n",
       "         0.12464625,  0.03324652, -0.575662  ],\n",
       "       [ 0.383244  , -0.10194393,  0.15797299,  0.08058536,  0.19306287,\n",
       "         0.10709983,  0.15448308,  0.12572873,  0.15131575,  0.17349848,\n",
       "         0.35624596, -0.01763836,  0.10278597,  0.06024742,  0.09695667,\n",
       "         0.22077844,  0.26515925, -0.01716812,  0.1495412 ,  0.06191382,\n",
       "         0.13888475,  0.04109031,  0.10058916,  0.14492589,  0.10689655,\n",
       "         0.0917992 , -0.03413942, -0.55022407],\n",
       "       [ 0.4010823 , -0.10716845,  0.15224016,  0.16118932,  0.15826786,\n",
       "         0.15655869,  0.12518251,  0.26860374,  0.24653733,  0.21443611,\n",
       "         0.33490986,  0.10039714,  0.14107957,  0.24034524,  0.17718214,\n",
       "         0.14484027,  0.21891111,  0.12863189,  0.13935405,  0.11024937,\n",
       "         0.17968947,  0.13903153,  0.16018933,  0.11920804,  0.15743881,\n",
       "         0.12943178,  0.02045503, -0.56692636],\n",
       "       [ 0.31426278,  0.01399496,  0.3559682 ,  0.30043286,  0.37069884,\n",
       "         0.32362068,  0.3685594 ,  0.27416462,  0.34138545,  0.21152407,\n",
       "         0.2860202 ,  0.35623655,  0.31011105,  0.3432578 ,  0.3053344 ,\n",
       "         0.3959913 ,  0.26432747,  0.2111617 ,  0.3371976 ,  0.37442127,\n",
       "         0.27643147,  0.29222387,  0.29178005,  0.33728403,  0.2945609 ,\n",
       "         0.30202433,  0.23013595, -0.139818  ],\n",
       "       [-0.04717916, -0.26111802,  0.03078032,  0.04522803,  0.0460608 ,\n",
       "         0.05160633,  0.0665127 ,  0.0879584 ,  0.10144281,  0.04352549,\n",
       "         0.14526367,  0.03927281,  0.01478651,  0.04999891,  0.01272081,\n",
       "        -0.03142704,  0.08015291,  0.01565826,  0.03230262, -0.00554079,\n",
       "         0.03761768,  0.02257037,  0.03615943,  0.02312675,  0.02902567,\n",
       "         0.02032894,  0.00145215, -0.17650121]], dtype=float32)"
      ]
     },
     "execution_count": 125,
     "metadata": {},
     "output_type": "execute_result"
    }
   ],
   "source": [
    "new_img"
   ]
  },
  {
   "cell_type": "code",
   "execution_count": 124,
   "metadata": {},
   "outputs": [
    {
     "data": {
      "text/plain": [
       "<matplotlib.image.AxesImage at 0x16c504e50>"
      ]
     },
     "execution_count": 124,
     "metadata": {},
     "output_type": "execute_result"
    },
    {
     "data": {
      "image/png": "[encoded data removed]",
      "text/plain": [
       "<Figure size 640x480 with 1 Axes>"
      ]
     },
     "metadata": {},
     "output_type": "display_data"
    }
   ],
   "source": [
    "plt.imshow(new_img, cmap='gray')"
   ]
  },
  {
   "cell_type": "code",
   "execution_count": 120,
   "metadata": {},
   "outputs": [
    {
     "data": {
      "text/plain": [
       "<matplotlib.image.AxesImage at 0x16c571480>"
      ]
     },
     "execution_count": 120,
     "metadata": {},
     "output_type": "execute_result"
    },
    {
     "data": {
      "image/png": "[encoded data removed]",
      "text/plain": [
       "<Figure size 640x480 with 1 Axes>"
      ]
     },
     "metadata": {},
     "output_type": "display_data"
    }
   ],
   "source": [
    "plt.imshow(test_input[0][0], cmap='gray')"
   ]
  },
  {
   "cell_type": "code",
   "execution_count": null,
   "metadata": {},
   "outputs": [],
   "source": []
  }
 ],
 "metadata": {
  "kernelspec": {
   "display_name": "ML",
   "language": "python",
   "name": "python3"
  },
  "language_info": {
   "codemirror_mode": {
    "name": "ipython",
    "version": 3
   },
   "file_extension": ".py",
   "mimetype": "text/x-python",
   "name": "python",
   "nbconvert_exporter": "python",
   "pygments_lexer": "ipython3",
   "version": "3.10.9"
  },
  "orig_nbformat": 4,
  "vscode": {
   "interpreter": {
    "hash": "f7856f28a8102bce8e6ec63541b338d68bfbcc129f3f07cda64ee304fa0e68c3"
   }
  }
 },
 "nbformat": 4,
 "nbformat_minor": 2
}

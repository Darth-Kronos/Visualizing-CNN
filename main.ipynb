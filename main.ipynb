{
 "cells": [
  {
   "cell_type": "code",
   "execution_count": 1,
   "metadata": {},
   "outputs": [],
   "source": [
    "import struct\n",
    "import numpy as np\n",
    "import array\n",
    "import os\n",
    "import matplotlib.pyplot as plt\n",
    "import torch\n",
    "from torch import nn\n",
    "import torch.utils.data as data\n",
    "from tqdm.auto import tqdm"
   ]
  },
  {
   "cell_type": "code",
   "execution_count": 2,
   "metadata": {},
   "outputs": [],
   "source": [
    "# function to load and reshape the dataset\n",
    "def load_mnist(imgs_path, labels_path):\n",
    "    # reading the ubyte file using python packages\n",
    "    with open(labels_path, 'rb') as f:\n",
    "        magic, n = struct.unpack('>II', f.read(8))\n",
    "        labels = np.fromfile(f, dtype=np.uint8)\n",
    "\n",
    "    with open(imgs_path, 'rb') as f:\n",
    "        magic, n, rows, cols = struct.unpack('>IIII', f.read(16))\n",
    "        images = np.fromfile(f, dtype=np.uint8).reshape(n, rows*cols)\n",
    "    \n",
    "    # reshape the 784 flattened image to 28x28\n",
    "    images = images.reshape(-1,rows, cols)\n",
    "\n",
    "    return images, labels, rows, cols"
   ]
  },
  {
   "cell_type": "code",
   "execution_count": 3,
   "metadata": {},
   "outputs": [],
   "source": [
    "# training data\n",
    "train_img_filepath = 'DATA/MNSIT/train-images.idx3-ubyte'\n",
    "train_label_filepath = 'DATA/MNSIT/train-labels.idx1-ubyte'\n",
    "train_images, train_labels, rows, cols = load_mnist(train_img_filepath, train_label_filepath)\n",
    "\n",
    "# testing data\n",
    "test_img_filepath = 'DATA/MNSIT/t10k-images.idx3-ubyte'\n",
    "test_label_filepath = 'DATA/MNSIT/t10k-labels.idx1-ubyte'\n",
    "test_images, test_labels, rows, cols = load_mnist(test_img_filepath, test_label_filepath)"
   ]
  },
  {
   "cell_type": "code",
   "execution_count": 4,
   "metadata": {},
   "outputs": [],
   "source": [
    "train_images = train_images/255.0\n",
    "test_images = test_images/255.0"
   ]
  },
  {
   "cell_type": "code",
   "execution_count": 5,
   "metadata": {},
   "outputs": [],
   "source": [
    "# custom dataset class for loading the dataset\n",
    "class mnsit_dataset(data.Dataset):\n",
    "    def __init__(self, images, labels) -> None:\n",
    "        super().__init__()\n",
    "        self.images = np.expand_dims(images,1)\n",
    "        self.labels = labels\n",
    "    \n",
    "    def __getitem__(self, index):\n",
    "        return self.images[index], self.labels[index]\n",
    "    \n",
    "    def __len__(self):\n",
    "        return len(self.labels)"
   ]
  },
  {
   "cell_type": "code",
   "execution_count": 6,
   "metadata": {},
   "outputs": [],
   "source": [
    "train_dataset = mnsit_dataset(train_images, train_labels)\n",
    "test_dataset = mnsit_dataset(test_images, test_labels)"
   ]
  },
  {
   "cell_type": "code",
   "execution_count": 7,
   "metadata": {},
   "outputs": [],
   "source": [
    "# batch size of 64\n",
    "BATCH_SIZE = 64\n",
    "# creating the dataloader for training and testing\n",
    "# 'Dataloader' handles randomization and batching\n",
    "train_loader = data.DataLoader(train_dataset,\n",
    "\t\tbatch_size=BATCH_SIZE, shuffle=True)\n",
    "test_loader = data.DataLoader(test_dataset,\n",
    "\t\tbatch_size=BATCH_SIZE, shuffle=False)\n",
    "        "
   ]
  },
  {
   "cell_type": "code",
   "execution_count": 8,
   "metadata": {},
   "outputs": [],
   "source": [
    "# setting the device on which PyTorch trains to CPU; Can set it to GPU is GPU is available\n",
    "device = 'cpu'"
   ]
  },
  {
   "cell_type": "code",
   "execution_count": 9,
   "metadata": {},
   "outputs": [],
   "source": [
    "# Defining accuracy function\n",
    "def accuracy_fn(y_true, y_pred):\n",
    "    correct = torch.eq(y_true, y_pred).sum().item() \n",
    "    acc = (correct / len(y_pred)) * 100 \n",
    "    return acc\n",
    "    \n",
    "def train_step(model: torch.nn.Module,\n",
    "               data_loader: torch.utils.data.DataLoader,\n",
    "               loss_fn: torch.nn.Module,\n",
    "               optimizer: torch.optim.Optimizer,\n",
    "               accuracy_fn,\n",
    "               device: torch.device = device):\n",
    "    train_loss, train_acc = 0, 0\n",
    "    for batch, (X, y) in enumerate(data_loader):\n",
    "        # Send training data to CPU or GPU\n",
    "        X = X.to(torch.float32)\n",
    "        X, y = X.to(device), y.to(device)\n",
    "        # Forward pass\n",
    "        # X = torch.unsqueeze(X,-1)\n",
    "        # print(X.shape)\n",
    "        y_pred = model(X)\n",
    "\n",
    "        # Calculate loss\n",
    "        loss = loss_fn(y_pred, y)\n",
    "\n",
    "        train_loss += loss\n",
    "        train_acc += accuracy_fn(y_true=y,\n",
    "                                 y_pred=y_pred.argmax(dim=1)) # logits to prediction label\n",
    "\n",
    "        # Grad of optimizer to zero (optimization the weights)\n",
    "        optimizer.zero_grad()\n",
    "\n",
    "        # Update the weights by backpropagation\n",
    "        loss.backward()\n",
    "        optimizer.step()\n",
    "\n",
    "    # Calculate loss and accuracy per epoch\n",
    "    train_loss /= len(data_loader)\n",
    "    train_acc /= len(data_loader)\n",
    "    print(f\"Train loss: {train_loss:.5f} | Train accuracy: {train_acc:.2f}%\")\n",
    "    return train_loss.detach().to('cpu').numpy(), train_acc\n",
    "\n",
    "def test_step(data_loader: torch.utils.data.DataLoader,\n",
    "              model: torch.nn.Module,\n",
    "              loss_fn: torch.nn.Module,\n",
    "              accuracy_fn,\n",
    "              device: torch.device = device):\n",
    "    test_loss, test_acc = 0, 0\n",
    "    model.eval() # put model in evaluation mode\n",
    "\n",
    "    with torch.inference_mode(): \n",
    "        for X, y in data_loader:\n",
    "            # Send testing data to CPU or GPU\n",
    "            X = X.to(torch.float32)\n",
    "            X, y = X.to(device), y.to(device)\n",
    "            # X = torch.unsqueeze(X,0)\n",
    "            # Forward pass\n",
    "            test_pred = model(X)\n",
    "            \n",
    "            # Calculate loss and accuracy\n",
    "            test_loss += loss_fn(test_pred, y)\n",
    "            test_acc += accuracy_fn(y_true=y,\n",
    "                y_pred=test_pred.argmax(dim=1) # logits to prediction label\n",
    "            )\n",
    "        \n",
    "    \n",
    "        test_loss /= len(data_loader)\n",
    "        test_acc /= len(data_loader)\n",
    "        print(f\"Test loss: {test_loss:.5f} | Test accuracy: {test_acc:.2f}%\\n\")\n",
    "        return test_loss.detach().to('cpu').numpy(), test_acc\n"
   ]
  },
  {
   "cell_type": "code",
   "execution_count": 10,
   "metadata": {},
   "outputs": [],
   "source": [
    "class lenet_5(nn.Module):\n",
    "    def __init__(self, input_shape: int, hidden_units: list, output_shape:int) -> None:\n",
    "        super().__init__()\n",
    "        self.first_conv2d = nn.Conv2d(in_channels=input_shape, out_channels=hidden_units[0], kernel_size=5, stride=1, padding=2)\n",
    "        self.relu = nn.ReLU()\n",
    "        self.first_maxPool2d = nn.MaxPool2d(kernel_size=2, stride=2)\n",
    "\n",
    "        self.second_conv2d = nn.Conv2d(in_channels=hidden_units[0], out_channels=hidden_units[1], kernel_size=5, stride=1, padding=0)\n",
    "        self.second_maxPool2d = nn.MaxPool2d(kernel_size=2, stride=2)\n",
    "\n",
    "        self.classifier = nn.Sequential(\n",
    "            nn.Flatten(),\n",
    "            nn.Linear(in_features=400, out_features=120),\n",
    "            nn.ReLU(),\n",
    "            nn.Linear(in_features=120, out_features=84),\n",
    "            nn.ReLU(),\n",
    "            nn.Linear(in_features=84, out_features=output_shape),\n",
    "            nn.LogSoftmax(1)\n",
    "        )\n",
    "    def forward(self, x):\n",
    "        # Block 1\n",
    "        self.output_first_conv2d = self.first_conv2d(x)\n",
    "        relu = self.relu(self.output_first_conv2d)\n",
    "        self.output_first_maxPool2d = self.first_maxPool2d(relu)\n",
    "        # Block 2\n",
    "        self.output_second_conv2d = self.second_conv2d(self.output_first_maxPool2d)\n",
    "        relu = self.relu(self.output_second_conv2d)\n",
    "        self.output_second_maxPool2d = self.second_maxPool2d(relu)\n",
    "        # Classifier\n",
    "        self.classifier_output = self.classifier(self.output_second_maxPool2d)\n",
    "\n",
    "        return self.classifier_output\n"
   ]
  },
  {
   "cell_type": "code",
   "execution_count": 11,
   "metadata": {},
   "outputs": [
    {
     "data": {
      "text/plain": [
       "lenet_5(\n",
       "  (first_conv2d): Conv2d(1, 6, kernel_size=(5, 5), stride=(1, 1), padding=(2, 2))\n",
       "  (relu): ReLU()\n",
       "  (first_maxPool2d): MaxPool2d(kernel_size=2, stride=2, padding=0, dilation=1, ceil_mode=False)\n",
       "  (second_conv2d): Conv2d(6, 16, kernel_size=(5, 5), stride=(1, 1))\n",
       "  (second_maxPool2d): MaxPool2d(kernel_size=2, stride=2, padding=0, dilation=1, ceil_mode=False)\n",
       "  (classifier): Sequential(\n",
       "    (0): Flatten(start_dim=1, end_dim=-1)\n",
       "    (1): Linear(in_features=400, out_features=120, bias=True)\n",
       "    (2): ReLU()\n",
       "    (3): Linear(in_features=120, out_features=84, bias=True)\n",
       "    (4): ReLU()\n",
       "    (5): Linear(in_features=84, out_features=10, bias=True)\n",
       "    (6): LogSoftmax(dim=1)\n",
       "  )\n",
       ")"
      ]
     },
     "execution_count": 11,
     "metadata": {},
     "output_type": "execute_result"
    }
   ],
   "source": [
    "torch.manual_seed(42)\n",
    "model = lenet_5(1, [6, 16], 10)\n",
    "model.to(device)\n",
    "model"
   ]
  },
  {
   "cell_type": "code",
   "execution_count": 12,
   "metadata": {},
   "outputs": [],
   "source": [
    "# Cross entropy loss\n",
    "# loss_function = nn.CrossEntropyLoss()\n",
    "loss_function = nn.NLLLoss()\n",
    "\n",
    "# Adam optimizer with learning rate 0.001\n",
    "optimizer = torch.optim.SGD(model.parameters(), lr=0.01)"
   ]
  },
  {
   "cell_type": "code",
   "execution_count": 13,
   "metadata": {},
   "outputs": [
    {
     "data": {
      "application/json": {
       "ascii": false,
       "bar_format": null,
       "colour": null,
       "elapsed": 0.009016036987304688,
       "initial": 0,
       "n": 0,
       "ncols": null,
       "nrows": null,
       "postfix": null,
       "prefix": "",
       "rate": null,
       "total": 20,
       "unit": "it",
       "unit_divisor": 1000,
       "unit_scale": false
      },
      "application/vnd.jupyter.widget-view+json": {
       "model_id": "e9767822d30342f5980c2c7a8b85a951",
       "version_major": 2,
       "version_minor": 0
      },
      "text/plain": [
       "  0%|          | 0/20 [00:00<?, ?it/s]"
      ]
     },
     "metadata": {},
     "output_type": "display_data"
    },
    {
     "name": "stdout",
     "output_type": "stream",
     "text": [
      "Epoch: 0\n",
      "---------\n",
      "Train loss: 1.97856 | Train accuracy: 36.25%\n",
      "Test loss: 0.91786 | Test accuracy: 67.65%\n",
      "\n",
      "Epoch: 1\n",
      "---------\n",
      "Train loss: 0.41009 | Train accuracy: 87.59%\n",
      "Test loss: 0.26924 | Test accuracy: 92.17%\n",
      "\n",
      "Epoch: 2\n",
      "---------\n",
      "Train loss: 0.21977 | Train accuracy: 93.45%\n",
      "Test loss: 0.16597 | Test accuracy: 95.13%\n",
      "\n",
      "Epoch: 3\n",
      "---------\n",
      "Train loss: 0.15422 | Train accuracy: 95.32%\n",
      "Test loss: 0.15227 | Test accuracy: 95.11%\n",
      "\n",
      "Epoch: 4\n",
      "---------\n",
      "Train loss: 0.12111 | Train accuracy: 96.32%\n",
      "Test loss: 0.09979 | Test accuracy: 97.03%\n",
      "\n",
      "Epoch: 5\n",
      "---------\n",
      "Train loss: 0.10331 | Train accuracy: 96.84%\n",
      "Test loss: 0.13059 | Test accuracy: 95.55%\n",
      "\n",
      "Epoch: 6\n",
      "---------\n",
      "Train loss: 0.09043 | Train accuracy: 97.28%\n",
      "Test loss: 0.07495 | Test accuracy: 97.67%\n",
      "\n",
      "Epoch: 7\n",
      "---------\n",
      "Train loss: 0.08119 | Train accuracy: 97.46%\n",
      "Test loss: 0.07525 | Test accuracy: 97.71%\n",
      "\n",
      "Epoch: 8\n",
      "---------\n",
      "Train loss: 0.07446 | Train accuracy: 97.71%\n",
      "Test loss: 0.06718 | Test accuracy: 97.83%\n",
      "\n",
      "Epoch: 9\n",
      "---------\n",
      "Train loss: 0.06954 | Train accuracy: 97.84%\n",
      "Test loss: 0.05978 | Test accuracy: 98.06%\n",
      "\n",
      "Epoch: 10\n",
      "---------\n",
      "Train loss: 0.06414 | Train accuracy: 98.03%\n",
      "Test loss: 0.05762 | Test accuracy: 98.13%\n",
      "\n",
      "Epoch: 11\n",
      "---------\n",
      "Train loss: 0.06022 | Train accuracy: 98.14%\n",
      "Test loss: 0.05475 | Test accuracy: 98.17%\n",
      "\n",
      "Epoch: 12\n",
      "---------\n",
      "Train loss: 0.05624 | Train accuracy: 98.27%\n",
      "Test loss: 0.05240 | Test accuracy: 98.22%\n",
      "\n",
      "Epoch: 13\n",
      "---------\n",
      "Train loss: 0.05311 | Train accuracy: 98.34%\n",
      "Test loss: 0.04819 | Test accuracy: 98.32%\n",
      "\n",
      "Epoch: 14\n",
      "---------\n",
      "Train loss: 0.04999 | Train accuracy: 98.46%\n",
      "Test loss: 0.05306 | Test accuracy: 98.25%\n",
      "\n",
      "Epoch: 15\n",
      "---------\n",
      "Train loss: 0.04788 | Train accuracy: 98.46%\n",
      "Test loss: 0.05448 | Test accuracy: 98.24%\n",
      "\n",
      "Epoch: 16\n",
      "---------\n",
      "Train loss: 0.04529 | Train accuracy: 98.61%\n",
      "Test loss: 0.04255 | Test accuracy: 98.44%\n",
      "\n",
      "Epoch: 17\n",
      "---------\n",
      "Train loss: 0.04314 | Train accuracy: 98.67%\n",
      "Test loss: 0.04341 | Test accuracy: 98.56%\n",
      "\n",
      "Epoch: 18\n",
      "---------\n",
      "Train loss: 0.04128 | Train accuracy: 98.75%\n",
      "Test loss: 0.06166 | Test accuracy: 97.90%\n",
      "\n",
      "Epoch: 19\n",
      "---------\n",
      "Train loss: 0.03929 | Train accuracy: 98.76%\n",
      "Test loss: 0.04547 | Test accuracy: 98.57%\n",
      "\n"
     ]
    }
   ],
   "source": [
    "EPOCHS = 20\n",
    "\n",
    "train_plot = []\n",
    "test_plot = []\n",
    "\n",
    "for epoch in tqdm(range(EPOCHS)):\n",
    "    print(f\"Epoch: {epoch}\\n---------\")\n",
    "    train_loss, train_acc = train_step(data_loader=train_loader, \n",
    "        model=model, \n",
    "        loss_fn=loss_function,\n",
    "        optimizer=optimizer,\n",
    "        accuracy_fn=accuracy_fn\n",
    "    )\n",
    "    \n",
    "    train_plot.append((train_acc, train_loss))\n",
    "\n",
    "    test_loss, test_acc = test_step(data_loader=test_loader,\n",
    "        model=model,\n",
    "        loss_fn=loss_function,\n",
    "        accuracy_fn=accuracy_fn\n",
    "    )\n",
    "    test_plot.append((test_acc, test_loss))\n",
    "    "
   ]
  },
  {
   "cell_type": "code",
   "execution_count": 14,
   "metadata": {},
   "outputs": [
    {
     "data": {
      "text/plain": [
       "Text(0, 0.5, 'Accuracy %')"
      ]
     },
     "execution_count": 14,
     "metadata": {},
     "output_type": "execute_result"
    },
    {
     "data": {
      "image/png": "[encoded data removed]",
      "text/plain": [
       "<Figure size 640x480 with 1 Axes>"
      ]
     },
     "metadata": {},
     "output_type": "display_data"
    }
   ],
   "source": [
    "plt.plot([i[0] for i in train_plot], label='training')\n",
    "plt.plot([i[0] for i in test_plot], label='testing')\n",
    "plt.grid()\n",
    "plt.legend()\n",
    "plt.title('Accuracy vs epoch')\n",
    "plt.xlabel('Epoch')\n",
    "plt.ylabel('Accuracy %')"
   ]
  },
  {
   "cell_type": "code",
   "execution_count": 15,
   "metadata": {},
   "outputs": [
    {
     "data": {
      "text/plain": [
       "Text(0, 0.5, 'Loss')"
      ]
     },
     "execution_count": 15,
     "metadata": {},
     "output_type": "execute_result"
    },
    {
     "data": {
      "image/png": "[encoded data removed]",
      "text/plain": [
       "<Figure size 640x480 with 1 Axes>"
      ]
     },
     "metadata": {},
     "output_type": "display_data"
    }
   ],
   "source": [
    "plt.plot([i[1] for i in train_plot], label='training')\n",
    "plt.plot([i[1] for i in test_plot], label='testing')\n",
    "plt.grid()\n",
    "plt.legend()\n",
    "plt.title('Loss vs epoch')\n",
    "plt.xlabel('Epoch')\n",
    "plt.ylabel('Loss')"
   ]
  },
  {
   "cell_type": "code",
   "execution_count": 16,
   "metadata": {},
   "outputs": [
    {
     "data": {
      "text/plain": [
       "torch.Size([16, 6, 28, 28])"
      ]
     },
     "execution_count": 16,
     "metadata": {},
     "output_type": "execute_result"
    }
   ],
   "source": [
    "model.output_first_conv2d.shape"
   ]
  },
  {
   "cell_type": "code",
   "execution_count": null,
   "metadata": {},
   "outputs": [],
   "source": []
  }
 ],
 "metadata": {
  "kernelspec": {
   "display_name": "ML",
   "language": "python",
   "name": "python3"
  },
  "language_info": {
   "codemirror_mode": {
    "name": "ipython",
    "version": 3
   },
   "file_extension": ".py",
   "mimetype": "text/x-python",
   "name": "python",
   "nbconvert_exporter": "python",
   "pygments_lexer": "ipython3",
   "version": "3.10.9"
  },
  "orig_nbformat": 4,
  "vscode": {
   "interpreter": {
    "hash": "f7856f28a8102bce8e6ec63541b338d68bfbcc129f3f07cda64ee304fa0e68c3"
   }
  }
 },
 "nbformat": 4,
 "nbformat_minor": 2
}
